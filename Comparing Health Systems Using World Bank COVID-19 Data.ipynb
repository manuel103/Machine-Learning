{
  "nbformat": 4,
  "nbformat_minor": 0,
  "metadata": {
    "colab": {
      "name": "Comp. Simulations.ipynb",
      "provenance": [],
      "collapsed_sections": [],
      "authorship_tag": "ABX9TyP3J3c3x48hnf00TVgjwmOB",
      "include_colab_link": true
    },
    "kernelspec": {
      "name": "python3",
      "display_name": "Python 3"
    }
  },
  "cells": [
    {
      "cell_type": "markdown",
      "metadata": {
        "id": "view-in-github",
        "colab_type": "text"
      },
      "source": [
        "<a href=\"https://colab.research.google.com/github/manuel103/Machine-Learning/blob/master/Comparing%20Health%20Systems%20Using%20World%20Bank%20COVID-19%20Data.ipynb\" target=\"_parent\"><img src=\"https://colab.research.google.com/assets/colab-badge.svg\" alt=\"Open In Colab\"/></a>"
      ]
    },
    {
      "cell_type": "code",
      "metadata": {
        "id": "zhowZqVKzra_",
        "colab_type": "code",
        "colab": {}
      },
      "source": [
        "import pandas as pd\n",
        "import numpy as np\n",
        "import matplotlib.pyplot as plt\n",
        "import seaborn as sns\n",
        "from sklearn.model_selection import train_test_split\n",
        "%matplotlib inline"
      ],
      "execution_count": 127,
      "outputs": []
    },
    {
      "cell_type": "code",
      "metadata": {
        "id": "zswg7cON0tUb",
        "colab_type": "code",
        "colab": {
          "resources": {
            "http://localhost:8080/nbextensions/google.colab/files.js": {
              "data": "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",
              "ok": true,
              "headers": [
                [
                  "content-type",
                  "application/javascript"
                ]
              ],
              "status": 200,
              "status_text": ""
            }
          },
          "base_uri": "https://localhost:8080/",
          "height": 72
        },
        "outputId": "9d5538cb-c665-45c8-90df-2c871bb7687b"
      },
      "source": [
        "from google.colab import files\n",
        "uploads = files.upload()"
      ],
      "execution_count": 128,
      "outputs": [
        {
          "output_type": "display_data",
          "data": {
            "text/html": [
              "\n",
              "     <input type=\"file\" id=\"files-94f59764-e1bd-4e1d-a414-391e69ef82d7\" name=\"files[]\" multiple disabled\n",
              "        style=\"border:none\" />\n",
              "     <output id=\"result-94f59764-e1bd-4e1d-a414-391e69ef82d7\">\n",
              "      Upload widget is only available when the cell has been executed in the\n",
              "      current browser session. Please rerun this cell to enable.\n",
              "      </output>\n",
              "      <script src=\"/nbextensions/google.colab/files.js\"></script> "
            ],
            "text/plain": [
              "<IPython.core.display.HTML object>"
            ]
          },
          "metadata": {
            "tags": []
          }
        },
        {
          "output_type": "stream",
          "text": [
            "Saving Health Systems Dataset.csv to Health Systems Dataset (6).csv\n"
          ],
          "name": "stdout"
        }
      ]
    },
    {
      "cell_type": "code",
      "metadata": {
        "id": "7E_yGxRK0ve2",
        "colab_type": "code",
        "colab": {
          "base_uri": "https://localhost:8080/",
          "height": 374
        },
        "outputId": "5d956327-1426-45e6-b396-58a6f15591e4"
      },
      "source": [
        "data = pd.read_csv('Health Systems Dataset.csv')\n",
        "# data.describe()\n",
        "data.info()"
      ],
      "execution_count": 129,
      "outputs": [
        {
          "output_type": "stream",
          "text": [
            "<class 'pandas.core.frame.DataFrame'>\n",
            "RangeIndex: 210 entries, 0 to 209\n",
            "Data columns (total 14 columns):\n",
            " #   Column                                Non-Null Count  Dtype  \n",
            "---  ------                                --------------  -----  \n",
            " 0   Country_Region                        187 non-null    object \n",
            " 1   Province_State                        14 non-null     object \n",
            " 2   World_Bank_Name                       210 non-null    object \n",
            " 3   Health_exp_pct_GDP_2016               186 non-null    float64\n",
            " 4   Health_exp_public_pct_2016            186 non-null    float64\n",
            " 5   Health_exp_out_of_pocket_pct_2016     186 non-null    float64\n",
            " 6   Health_exp_per_capita_USD_2016        186 non-null    float64\n",
            " 7   per_capita_exp_PPP_2016               186 non-null    float64\n",
            " 8   External_health_exp_pct_2016          167 non-null    float64\n",
            " 9   Physicians_per_1000_2009-18           189 non-null    float64\n",
            " 10  Nurse_midwife_per_1000_2009-18        189 non-null    float64\n",
            " 11  Specialist_surgical_per_1000_2008-18  175 non-null    float64\n",
            " 12  Completeness_of_birth_reg_2009-18     163 non-null    float64\n",
            " 13  Completeness_of_death_reg_2008-16     107 non-null    float64\n",
            "dtypes: float64(11), object(3)\n",
            "memory usage: 23.1+ KB\n"
          ],
          "name": "stdout"
        }
      ]
    },
    {
      "cell_type": "code",
      "metadata": {
        "id": "9RS0EtBP07ui",
        "colab_type": "code",
        "colab": {
          "base_uri": "https://localhost:8080/",
          "height": 241
        },
        "outputId": "daaa7568-f672-4cc0-83dd-1aa50d9e3d92"
      },
      "source": [
        "data.head()"
      ],
      "execution_count": 130,
      "outputs": [
        {
          "output_type": "execute_result",
          "data": {
            "text/html": [
              "<div>\n",
              "<style scoped>\n",
              "    .dataframe tbody tr th:only-of-type {\n",
              "        vertical-align: middle;\n",
              "    }\n",
              "\n",
              "    .dataframe tbody tr th {\n",
              "        vertical-align: top;\n",
              "    }\n",
              "\n",
              "    .dataframe thead th {\n",
              "        text-align: right;\n",
              "    }\n",
              "</style>\n",
              "<table border=\"1\" class=\"dataframe\">\n",
              "  <thead>\n",
              "    <tr style=\"text-align: right;\">\n",
              "      <th></th>\n",
              "      <th>Country_Region</th>\n",
              "      <th>Province_State</th>\n",
              "      <th>World_Bank_Name</th>\n",
              "      <th>Health_exp_pct_GDP_2016</th>\n",
              "      <th>Health_exp_public_pct_2016</th>\n",
              "      <th>Health_exp_out_of_pocket_pct_2016</th>\n",
              "      <th>Health_exp_per_capita_USD_2016</th>\n",
              "      <th>per_capita_exp_PPP_2016</th>\n",
              "      <th>External_health_exp_pct_2016</th>\n",
              "      <th>Physicians_per_1000_2009-18</th>\n",
              "      <th>Nurse_midwife_per_1000_2009-18</th>\n",
              "      <th>Specialist_surgical_per_1000_2008-18</th>\n",
              "      <th>Completeness_of_birth_reg_2009-18</th>\n",
              "      <th>Completeness_of_death_reg_2008-16</th>\n",
              "    </tr>\n",
              "  </thead>\n",
              "  <tbody>\n",
              "    <tr>\n",
              "      <th>0</th>\n",
              "      <td>Afghanistan</td>\n",
              "      <td>NaN</td>\n",
              "      <td>Afghanistan</td>\n",
              "      <td>10.2</td>\n",
              "      <td>5.1</td>\n",
              "      <td>77.4</td>\n",
              "      <td>57.2</td>\n",
              "      <td>162.8</td>\n",
              "      <td>17.5</td>\n",
              "      <td>0.3</td>\n",
              "      <td>0.3</td>\n",
              "      <td>0.0</td>\n",
              "      <td>42.3</td>\n",
              "      <td>NaN</td>\n",
              "    </tr>\n",
              "    <tr>\n",
              "      <th>1</th>\n",
              "      <td>Albania</td>\n",
              "      <td>NaN</td>\n",
              "      <td>Albania</td>\n",
              "      <td>6.7</td>\n",
              "      <td>41.4</td>\n",
              "      <td>58.0</td>\n",
              "      <td>271.5</td>\n",
              "      <td>759.7</td>\n",
              "      <td>0.7</td>\n",
              "      <td>1.2</td>\n",
              "      <td>3.6</td>\n",
              "      <td>11.6</td>\n",
              "      <td>98.4</td>\n",
              "      <td>53.0</td>\n",
              "    </tr>\n",
              "    <tr>\n",
              "      <th>2</th>\n",
              "      <td>Algeria</td>\n",
              "      <td>NaN</td>\n",
              "      <td>Algeria</td>\n",
              "      <td>6.6</td>\n",
              "      <td>67.7</td>\n",
              "      <td>30.9</td>\n",
              "      <td>260.4</td>\n",
              "      <td>998.2</td>\n",
              "      <td>0.0</td>\n",
              "      <td>1.8</td>\n",
              "      <td>2.2</td>\n",
              "      <td>12.1</td>\n",
              "      <td>100.0</td>\n",
              "      <td>NaN</td>\n",
              "    </tr>\n",
              "    <tr>\n",
              "      <th>3</th>\n",
              "      <td>Andorra</td>\n",
              "      <td>NaN</td>\n",
              "      <td>Andorra</td>\n",
              "      <td>10.4</td>\n",
              "      <td>49.1</td>\n",
              "      <td>41.7</td>\n",
              "      <td>3834.7</td>\n",
              "      <td>4978.7</td>\n",
              "      <td>NaN</td>\n",
              "      <td>3.3</td>\n",
              "      <td>4.0</td>\n",
              "      <td>83.1</td>\n",
              "      <td>100.0</td>\n",
              "      <td>80.0</td>\n",
              "    </tr>\n",
              "    <tr>\n",
              "      <th>4</th>\n",
              "      <td>Angola</td>\n",
              "      <td>NaN</td>\n",
              "      <td>Angola</td>\n",
              "      <td>2.9</td>\n",
              "      <td>44.1</td>\n",
              "      <td>35.2</td>\n",
              "      <td>95.2</td>\n",
              "      <td>185.8</td>\n",
              "      <td>3.6</td>\n",
              "      <td>0.2</td>\n",
              "      <td>1.3</td>\n",
              "      <td>NaN</td>\n",
              "      <td>25.0</td>\n",
              "      <td>NaN</td>\n",
              "    </tr>\n",
              "  </tbody>\n",
              "</table>\n",
              "</div>"
            ],
            "text/plain": [
              "  Country_Region  ... Completeness_of_death_reg_2008-16\n",
              "0    Afghanistan  ...                               NaN\n",
              "1        Albania  ...                              53.0\n",
              "2        Algeria  ...                               NaN\n",
              "3        Andorra  ...                              80.0\n",
              "4         Angola  ...                               NaN\n",
              "\n",
              "[5 rows x 14 columns]"
            ]
          },
          "metadata": {
            "tags": []
          },
          "execution_count": 130
        }
      ]
    },
    {
      "cell_type": "markdown",
      "metadata": {
        "id": "SA4JDBBM8k7K",
        "colab_type": "text"
      },
      "source": [
        "# **Data Cleaning**"
      ]
    },
    {
      "cell_type": "code",
      "metadata": {
        "id": "OoJAhuTd1NUQ",
        "colab_type": "code",
        "colab": {
          "base_uri": "https://localhost:8080/",
          "height": 241
        },
        "outputId": "dacc88aa-4f99-41d2-9cf7-de85537c028e"
      },
      "source": [
        "# Drop useless columns\n",
        "df = pd.DataFrame(data)\n",
        "df = data.drop(['Country_Region', 'Province_State'], axis = 1)\n",
        "df.head()"
      ],
      "execution_count": 131,
      "outputs": [
        {
          "output_type": "execute_result",
          "data": {
            "text/html": [
              "<div>\n",
              "<style scoped>\n",
              "    .dataframe tbody tr th:only-of-type {\n",
              "        vertical-align: middle;\n",
              "    }\n",
              "\n",
              "    .dataframe tbody tr th {\n",
              "        vertical-align: top;\n",
              "    }\n",
              "\n",
              "    .dataframe thead th {\n",
              "        text-align: right;\n",
              "    }\n",
              "</style>\n",
              "<table border=\"1\" class=\"dataframe\">\n",
              "  <thead>\n",
              "    <tr style=\"text-align: right;\">\n",
              "      <th></th>\n",
              "      <th>World_Bank_Name</th>\n",
              "      <th>Health_exp_pct_GDP_2016</th>\n",
              "      <th>Health_exp_public_pct_2016</th>\n",
              "      <th>Health_exp_out_of_pocket_pct_2016</th>\n",
              "      <th>Health_exp_per_capita_USD_2016</th>\n",
              "      <th>per_capita_exp_PPP_2016</th>\n",
              "      <th>External_health_exp_pct_2016</th>\n",
              "      <th>Physicians_per_1000_2009-18</th>\n",
              "      <th>Nurse_midwife_per_1000_2009-18</th>\n",
              "      <th>Specialist_surgical_per_1000_2008-18</th>\n",
              "      <th>Completeness_of_birth_reg_2009-18</th>\n",
              "      <th>Completeness_of_death_reg_2008-16</th>\n",
              "    </tr>\n",
              "  </thead>\n",
              "  <tbody>\n",
              "    <tr>\n",
              "      <th>0</th>\n",
              "      <td>Afghanistan</td>\n",
              "      <td>10.2</td>\n",
              "      <td>5.1</td>\n",
              "      <td>77.4</td>\n",
              "      <td>57.2</td>\n",
              "      <td>162.8</td>\n",
              "      <td>17.5</td>\n",
              "      <td>0.3</td>\n",
              "      <td>0.3</td>\n",
              "      <td>0.0</td>\n",
              "      <td>42.3</td>\n",
              "      <td>NaN</td>\n",
              "    </tr>\n",
              "    <tr>\n",
              "      <th>1</th>\n",
              "      <td>Albania</td>\n",
              "      <td>6.7</td>\n",
              "      <td>41.4</td>\n",
              "      <td>58.0</td>\n",
              "      <td>271.5</td>\n",
              "      <td>759.7</td>\n",
              "      <td>0.7</td>\n",
              "      <td>1.2</td>\n",
              "      <td>3.6</td>\n",
              "      <td>11.6</td>\n",
              "      <td>98.4</td>\n",
              "      <td>53.0</td>\n",
              "    </tr>\n",
              "    <tr>\n",
              "      <th>2</th>\n",
              "      <td>Algeria</td>\n",
              "      <td>6.6</td>\n",
              "      <td>67.7</td>\n",
              "      <td>30.9</td>\n",
              "      <td>260.4</td>\n",
              "      <td>998.2</td>\n",
              "      <td>0.0</td>\n",
              "      <td>1.8</td>\n",
              "      <td>2.2</td>\n",
              "      <td>12.1</td>\n",
              "      <td>100.0</td>\n",
              "      <td>NaN</td>\n",
              "    </tr>\n",
              "    <tr>\n",
              "      <th>3</th>\n",
              "      <td>Andorra</td>\n",
              "      <td>10.4</td>\n",
              "      <td>49.1</td>\n",
              "      <td>41.7</td>\n",
              "      <td>3834.7</td>\n",
              "      <td>4978.7</td>\n",
              "      <td>NaN</td>\n",
              "      <td>3.3</td>\n",
              "      <td>4.0</td>\n",
              "      <td>83.1</td>\n",
              "      <td>100.0</td>\n",
              "      <td>80.0</td>\n",
              "    </tr>\n",
              "    <tr>\n",
              "      <th>4</th>\n",
              "      <td>Angola</td>\n",
              "      <td>2.9</td>\n",
              "      <td>44.1</td>\n",
              "      <td>35.2</td>\n",
              "      <td>95.2</td>\n",
              "      <td>185.8</td>\n",
              "      <td>3.6</td>\n",
              "      <td>0.2</td>\n",
              "      <td>1.3</td>\n",
              "      <td>NaN</td>\n",
              "      <td>25.0</td>\n",
              "      <td>NaN</td>\n",
              "    </tr>\n",
              "  </tbody>\n",
              "</table>\n",
              "</div>"
            ],
            "text/plain": [
              "  World_Bank_Name  ...  Completeness_of_death_reg_2008-16\n",
              "0     Afghanistan  ...                                NaN\n",
              "1         Albania  ...                               53.0\n",
              "2         Algeria  ...                                NaN\n",
              "3         Andorra  ...                               80.0\n",
              "4          Angola  ...                                NaN\n",
              "\n",
              "[5 rows x 12 columns]"
            ]
          },
          "metadata": {
            "tags": []
          },
          "execution_count": 131
        }
      ]
    },
    {
      "cell_type": "code",
      "metadata": {
        "id": "ObAy3ekC13mq",
        "colab_type": "code",
        "colab": {
          "base_uri": "https://localhost:8080/",
          "height": 238
        },
        "outputId": "86cb32ab-48d1-4abb-c6b7-f5d3e0fc4f71"
      },
      "source": [
        "# Dealing with NAN values\n",
        "# We can see that most of the columns have null values (True)\n",
        "df.isnull().any()"
      ],
      "execution_count": 132,
      "outputs": [
        {
          "output_type": "execute_result",
          "data": {
            "text/plain": [
              "World_Bank_Name                         False\n",
              "Health_exp_pct_GDP_2016                  True\n",
              "Health_exp_public_pct_2016               True\n",
              "Health_exp_out_of_pocket_pct_2016        True\n",
              "Health_exp_per_capita_USD_2016           True\n",
              "per_capita_exp_PPP_2016                  True\n",
              "External_health_exp_pct_2016             True\n",
              "Physicians_per_1000_2009-18              True\n",
              "Nurse_midwife_per_1000_2009-18           True\n",
              "Specialist_surgical_per_1000_2008-18     True\n",
              "Completeness_of_birth_reg_2009-18        True\n",
              "Completeness_of_death_reg_2008-16        True\n",
              "dtype: bool"
            ]
          },
          "metadata": {
            "tags": []
          },
          "execution_count": 132
        }
      ]
    },
    {
      "cell_type": "markdown",
      "metadata": {
        "id": "r82XYTLjwStq",
        "colab_type": "text"
      },
      "source": [
        "**To deal with null values, we need to fill them with a measure of central tendency. We need to find out which measure is the best to use.**"
      ]
    },
    {
      "cell_type": "code",
      "metadata": {
        "id": "hO5SaMM2wKsK",
        "colab_type": "code",
        "colab": {
          "base_uri": "https://localhost:8080/",
          "height": 1000
        },
        "outputId": "2edfdeb0-c4dc-44f5-d717-8c2d962d5195"
      },
      "source": [
        "from scipy.stats import norm\n",
        "fig, axes = plt.subplots(5, 3, figsize=(15, 25))\n",
        "fig.suptitle('Data Distribution Visualization', fontsize=20)\n",
        "\n",
        "for i, col in enumerate(df.columns[1:]):\n",
        "  ax=fig.add_subplot(5, 3, i+1)\n",
        "  sns.distplot(df[col],fit=norm, kde=False,ax=ax)\n",
        "# plt.plot()"
      ],
      "execution_count": 133,
      "outputs": [
        {
          "output_type": "display_data",
          "data": {
            "image/png": "[encoded data removed]",
            "text/plain": [
              "<Figure size 1080x1800 with 26 Axes>"
            ]
          },
          "metadata": {
            "tags": [],
            "needs_background": "light"
          }
        }
      ]
    },
    {
      "cell_type": "markdown",
      "metadata": {
        "id": "RzPIHY2K4tr_",
        "colab_type": "text"
      },
      "source": [
        "**We can observe that our data is either skewed to the right or to the left & the median would be the most suitable measure of central tendency to replace with**"
      ]
    },
    {
      "cell_type": "code",
      "metadata": {
        "id": "yyzI8Lod21hA",
        "colab_type": "code",
        "colab": {
          "base_uri": "https://localhost:8080/",
          "height": 238
        },
        "outputId": "3c7c3b4a-3cb6-48db-8caf-587bd06d6f15"
      },
      "source": [
        "# Filling NAN values with their median\n",
        "df = df.fillna(df.median())\n",
        "df.isnull().any()"
      ],
      "execution_count": 134,
      "outputs": [
        {
          "output_type": "execute_result",
          "data": {
            "text/plain": [
              "World_Bank_Name                         False\n",
              "Health_exp_pct_GDP_2016                 False\n",
              "Health_exp_public_pct_2016              False\n",
              "Health_exp_out_of_pocket_pct_2016       False\n",
              "Health_exp_per_capita_USD_2016          False\n",
              "per_capita_exp_PPP_2016                 False\n",
              "External_health_exp_pct_2016            False\n",
              "Physicians_per_1000_2009-18             False\n",
              "Nurse_midwife_per_1000_2009-18          False\n",
              "Specialist_surgical_per_1000_2008-18    False\n",
              "Completeness_of_birth_reg_2009-18       False\n",
              "Completeness_of_death_reg_2008-16       False\n",
              "dtype: bool"
            ]
          },
          "metadata": {
            "tags": []
          },
          "execution_count": 134
        }
      ]
    },
    {
      "cell_type": "markdown",
      "metadata": {
        "id": "tQaCpbLG5LXs",
        "colab_type": "text"
      },
      "source": [
        "**We now don't have null values as shown by bolean value, False**"
      ]
    },
    {
      "cell_type": "code",
      "metadata": {
        "id": "wrjrvo-l3BFc",
        "colab_type": "code",
        "colab": {
          "base_uri": "https://localhost:8080/",
          "height": 241
        },
        "outputId": "b10badfe-cb14-4575-93cc-a5494327916a"
      },
      "source": [
        "df.head()"
      ],
      "execution_count": 135,
      "outputs": [
        {
          "output_type": "execute_result",
          "data": {
            "text/html": [
              "<div>\n",
              "<style scoped>\n",
              "    .dataframe tbody tr th:only-of-type {\n",
              "        vertical-align: middle;\n",
              "    }\n",
              "\n",
              "    .dataframe tbody tr th {\n",
              "        vertical-align: top;\n",
              "    }\n",
              "\n",
              "    .dataframe thead th {\n",
              "        text-align: right;\n",
              "    }\n",
              "</style>\n",
              "<table border=\"1\" class=\"dataframe\">\n",
              "  <thead>\n",
              "    <tr style=\"text-align: right;\">\n",
              "      <th></th>\n",
              "      <th>World_Bank_Name</th>\n",
              "      <th>Health_exp_pct_GDP_2016</th>\n",
              "      <th>Health_exp_public_pct_2016</th>\n",
              "      <th>Health_exp_out_of_pocket_pct_2016</th>\n",
              "      <th>Health_exp_per_capita_USD_2016</th>\n",
              "      <th>per_capita_exp_PPP_2016</th>\n",
              "      <th>External_health_exp_pct_2016</th>\n",
              "      <th>Physicians_per_1000_2009-18</th>\n",
              "      <th>Nurse_midwife_per_1000_2009-18</th>\n",
              "      <th>Specialist_surgical_per_1000_2008-18</th>\n",
              "      <th>Completeness_of_birth_reg_2009-18</th>\n",
              "      <th>Completeness_of_death_reg_2008-16</th>\n",
              "    </tr>\n",
              "  </thead>\n",
              "  <tbody>\n",
              "    <tr>\n",
              "      <th>0</th>\n",
              "      <td>Afghanistan</td>\n",
              "      <td>10.2</td>\n",
              "      <td>5.1</td>\n",
              "      <td>77.4</td>\n",
              "      <td>57.2</td>\n",
              "      <td>162.8</td>\n",
              "      <td>17.5</td>\n",
              "      <td>0.3</td>\n",
              "      <td>0.3</td>\n",
              "      <td>0.0</td>\n",
              "      <td>42.3</td>\n",
              "      <td>99.0</td>\n",
              "    </tr>\n",
              "    <tr>\n",
              "      <th>1</th>\n",
              "      <td>Albania</td>\n",
              "      <td>6.7</td>\n",
              "      <td>41.4</td>\n",
              "      <td>58.0</td>\n",
              "      <td>271.5</td>\n",
              "      <td>759.7</td>\n",
              "      <td>0.7</td>\n",
              "      <td>1.2</td>\n",
              "      <td>3.6</td>\n",
              "      <td>11.6</td>\n",
              "      <td>98.4</td>\n",
              "      <td>53.0</td>\n",
              "    </tr>\n",
              "    <tr>\n",
              "      <th>2</th>\n",
              "      <td>Algeria</td>\n",
              "      <td>6.6</td>\n",
              "      <td>67.7</td>\n",
              "      <td>30.9</td>\n",
              "      <td>260.4</td>\n",
              "      <td>998.2</td>\n",
              "      <td>0.0</td>\n",
              "      <td>1.8</td>\n",
              "      <td>2.2</td>\n",
              "      <td>12.1</td>\n",
              "      <td>100.0</td>\n",
              "      <td>99.0</td>\n",
              "    </tr>\n",
              "    <tr>\n",
              "      <th>3</th>\n",
              "      <td>Andorra</td>\n",
              "      <td>10.4</td>\n",
              "      <td>49.1</td>\n",
              "      <td>41.7</td>\n",
              "      <td>3834.7</td>\n",
              "      <td>4978.7</td>\n",
              "      <td>1.7</td>\n",
              "      <td>3.3</td>\n",
              "      <td>4.0</td>\n",
              "      <td>83.1</td>\n",
              "      <td>100.0</td>\n",
              "      <td>80.0</td>\n",
              "    </tr>\n",
              "    <tr>\n",
              "      <th>4</th>\n",
              "      <td>Angola</td>\n",
              "      <td>2.9</td>\n",
              "      <td>44.1</td>\n",
              "      <td>35.2</td>\n",
              "      <td>95.2</td>\n",
              "      <td>185.8</td>\n",
              "      <td>3.6</td>\n",
              "      <td>0.2</td>\n",
              "      <td>1.3</td>\n",
              "      <td>23.6</td>\n",
              "      <td>25.0</td>\n",
              "      <td>99.0</td>\n",
              "    </tr>\n",
              "  </tbody>\n",
              "</table>\n",
              "</div>"
            ],
            "text/plain": [
              "  World_Bank_Name  ...  Completeness_of_death_reg_2008-16\n",
              "0     Afghanistan  ...                               99.0\n",
              "1         Albania  ...                               53.0\n",
              "2         Algeria  ...                               99.0\n",
              "3         Andorra  ...                               80.0\n",
              "4          Angola  ...                               99.0\n",
              "\n",
              "[5 rows x 12 columns]"
            ]
          },
          "metadata": {
            "tags": []
          },
          "execution_count": 135
        }
      ]
    },
    {
      "cell_type": "markdown",
      "metadata": {
        "id": "-0ZaYoMS8aks",
        "colab_type": "text"
      },
      "source": [
        "# **Data Visualization**"
      ]
    },
    {
      "cell_type": "markdown",
      "metadata": {
        "id": "obA4lAoq6qxu",
        "colab_type": "text"
      },
      "source": [
        "**We first sort the countries based on their total expenditures and compare the high spenders vs the low spenders**"
      ]
    },
    {
      "cell_type": "code",
      "metadata": {
        "id": "_59I2cE56g7i",
        "colab_type": "code",
        "colab": {}
      },
      "source": [
        "total_exp = df.sort_values('Health_exp_pct_GDP_2016', ascending = False)\n",
        "total_exp.head()\n",
        "top_ten_exp = total_exp.head(10)\n",
        "total_exp = total_exp.sort_values('Health_exp_pct_GDP_2016')\n",
        "bot_ten_exp = total_exp.head(10)"
      ],
      "execution_count": 136,
      "outputs": []
    },
    {
      "cell_type": "code",
      "metadata": {
        "id": "w8I0O51N8SL2",
        "colab_type": "code",
        "colab": {
          "base_uri": "https://localhost:8080/",
          "height": 542
        },
        "outputId": "31b4b4e8-7830-4f68-8e08-aea6b67b55be"
      },
      "source": [
        "from plotly.subplots import make_subplots\n",
        "import plotly.graph_objects as go\n",
        "fig = make_subplots(rows=1, cols=2, shared_yaxes=True)\n",
        "\n",
        "fig.add_trace(\n",
        "    go.Bar(x=top_ten_exp['World_Bank_Name'], y=top_ten_exp['Health_exp_pct_GDP_2016']),\n",
        "    row=1, col=1\n",
        ")\n",
        "\n",
        "fig.add_trace(\n",
        "    go.Bar(x=bot_ten_exp['World_Bank_Name'], y=bot_ten_exp['Health_exp_pct_GDP_2016']),\n",
        "    row=1, col=2\n",
        ")\n",
        "\n",
        "fig.update_layout(\n",
        "    title={\n",
        "        'text': \"Top Ten & Bottom ten spenders\",\n",
        "        'y':0.9,\n",
        "        'x':0.5,\n",
        "        'xanchor': 'center',\n",
        "        'yanchor': 'top'},\n",
        "    plot_bgcolor= 'white',\n",
        "    paper_bgcolor= 'white',\n",
        "    yaxis_title=\"Health_exp_pct_GDP_2016 (%)\",\n",
        "    showlegend=False,\n",
        "    font=dict(\n",
        "        size=14,\n",
        "        color=\"black\"\n",
        "    )\n",
        ")\n",
        "fig.show()"
      ],
      "execution_count": 137,
      "outputs": [
        {
          "output_type": "display_data",
          "data": {
            "text/html": [
              "<html>\n",
              "<head><meta charset=\"utf-8\" /></head>\n",
              "<body>\n",
              "    <div>\n",
              "            <script src=\"https://cdnjs.cloudflare.com/ajax/libs/mathjax/2.7.5/MathJax.js?config=TeX-AMS-MML_SVG\"></script><script type=\"text/javascript\">if (window.MathJax) {MathJax.Hub.Config({SVG: {font: \"STIX-Web\"}});}</script>\n",
              "                <script type=\"text/javascript\">window.PlotlyConfig = {MathJaxConfig: 'local'};</script>\n",
              "        <script src=\"https://cdn.plot.ly/plotly-latest.min.js\"></script>    \n",
              "            <div id=\"6291385d-5089-4cb1-ba9f-d054becfaa48\" class=\"plotly-graph-div\" style=\"height:525px; width:100%;\"></div>\n",
              "            <script type=\"text/javascript\">\n",
              "                \n",
              "                    window.PLOTLYENV=window.PLOTLYENV || {};\n",
              "                    \n",
              "                if (document.getElementById(\"6291385d-5089-4cb1-ba9f-d054becfaa48\")) {\n",
              "                    Plotly.newPlot(\n",
              "                        '6291385d-5089-4cb1-ba9f-d054becfaa48',\n",
              "                        [{\"type\": \"bar\", \"x\": [\"Marshall Islands\", \"United States\", \"Sierra Leone\", \"Tuvalu\", \"Micronesia, Fed. Sts.\", \"Switzerland\", \"Cuba\", \"Kiribati\", \"Brazil\", \"Palau\"], \"xaxis\": \"x\", \"y\": [23.3, 17.1, 16.5, 15.5, 12.6, 12.2, 12.2, 11.9, 11.8, 11.7], \"yaxis\": \"y\"}, {\"type\": \"bar\", \"x\": [\"Monaco\", \"Papua New Guinea\", \"Brunei Darussalam\", \"Bangladesh\", \"Lao PDR\", \"Pakistan\", \"Angola\", \"Eritrea\", \"Gabon\", \"Indonesia\"], \"xaxis\": \"x2\", \"y\": [1.7, 2.0, 2.3, 2.4, 2.4, 2.8, 2.9, 3.0, 3.1, 3.1], \"yaxis\": \"y2\"}],\n",
              "                        {\"font\": {\"color\": \"black\", \"size\": 14}, \"paper_bgcolor\": \"white\", \"plot_bgcolor\": \"white\", \"showlegend\": false, \"template\": {\"data\": {\"bar\": [{\"error_x\": {\"color\": \"#2a3f5f\"}, \"error_y\": {\"color\": \"#2a3f5f\"}, \"marker\": {\"line\": {\"color\": \"#E5ECF6\", \"width\": 0.5}}, \"type\": \"bar\"}], \"barpolar\": [{\"marker\": {\"line\": {\"color\": \"#E5ECF6\", \"width\": 0.5}}, \"type\": \"barpolar\"}], \"carpet\": [{\"aaxis\": {\"endlinecolor\": \"#2a3f5f\", \"gridcolor\": \"white\", \"linecolor\": \"white\", \"minorgridcolor\": \"white\", \"startlinecolor\": \"#2a3f5f\"}, \"baxis\": {\"endlinecolor\": \"#2a3f5f\", \"gridcolor\": \"white\", \"linecolor\": \"white\", \"minorgridcolor\": \"white\", \"startlinecolor\": \"#2a3f5f\"}, \"type\": \"carpet\"}], \"choropleth\": [{\"colorbar\": {\"outlinewidth\": 0, \"ticks\": \"\"}, \"type\": \"choropleth\"}], \"contour\": [{\"colorbar\": {\"outlinewidth\": 0, \"ticks\": \"\"}, \"colorscale\": [[0.0, \"#0d0887\"], [0.1111111111111111, \"#46039f\"], [0.2222222222222222, \"#7201a8\"], [0.3333333333333333, \"#9c179e\"], [0.4444444444444444, \"#bd3786\"], [0.5555555555555556, \"#d8576b\"], [0.6666666666666666, \"#ed7953\"], [0.7777777777777778, \"#fb9f3a\"], [0.8888888888888888, \"#fdca26\"], [1.0, \"#f0f921\"]], \"type\": \"contour\"}], \"contourcarpet\": [{\"colorbar\": {\"outlinewidth\": 0, \"ticks\": \"\"}, \"type\": \"contourcarpet\"}], \"heatmap\": [{\"colorbar\": {\"outlinewidth\": 0, \"ticks\": \"\"}, \"colorscale\": [[0.0, \"#0d0887\"], [0.1111111111111111, \"#46039f\"], [0.2222222222222222, \"#7201a8\"], [0.3333333333333333, \"#9c179e\"], [0.4444444444444444, \"#bd3786\"], [0.5555555555555556, \"#d8576b\"], [0.6666666666666666, \"#ed7953\"], [0.7777777777777778, \"#fb9f3a\"], [0.8888888888888888, \"#fdca26\"], [1.0, \"#f0f921\"]], \"type\": \"heatmap\"}], \"heatmapgl\": [{\"colorbar\": {\"outlinewidth\": 0, \"ticks\": \"\"}, \"colorscale\": [[0.0, \"#0d0887\"], [0.1111111111111111, \"#46039f\"], [0.2222222222222222, \"#7201a8\"], [0.3333333333333333, \"#9c179e\"], [0.4444444444444444, \"#bd3786\"], [0.5555555555555556, \"#d8576b\"], [0.6666666666666666, \"#ed7953\"], [0.7777777777777778, \"#fb9f3a\"], [0.8888888888888888, \"#fdca26\"], [1.0, \"#f0f921\"]], \"type\": \"heatmapgl\"}], \"histogram\": [{\"marker\": {\"colorbar\": {\"outlinewidth\": 0, \"ticks\": \"\"}}, \"type\": \"histogram\"}], \"histogram2d\": [{\"colorbar\": {\"outlinewidth\": 0, \"ticks\": \"\"}, \"colorscale\": [[0.0, \"#0d0887\"], [0.1111111111111111, \"#46039f\"], [0.2222222222222222, \"#7201a8\"], [0.3333333333333333, \"#9c179e\"], [0.4444444444444444, \"#bd3786\"], [0.5555555555555556, \"#d8576b\"], [0.6666666666666666, \"#ed7953\"], [0.7777777777777778, \"#fb9f3a\"], [0.8888888888888888, \"#fdca26\"], [1.0, \"#f0f921\"]], \"type\": \"histogram2d\"}], \"histogram2dcontour\": [{\"colorbar\": {\"outlinewidth\": 0, \"ticks\": \"\"}, \"colorscale\": [[0.0, \"#0d0887\"], [0.1111111111111111, \"#46039f\"], [0.2222222222222222, \"#7201a8\"], [0.3333333333333333, \"#9c179e\"], [0.4444444444444444, \"#bd3786\"], [0.5555555555555556, \"#d8576b\"], [0.6666666666666666, \"#ed7953\"], [0.7777777777777778, \"#fb9f3a\"], [0.8888888888888888, \"#fdca26\"], [1.0, \"#f0f921\"]], \"type\": \"histogram2dcontour\"}], \"mesh3d\": [{\"colorbar\": {\"outlinewidth\": 0, \"ticks\": \"\"}, \"type\": \"mesh3d\"}], \"parcoords\": [{\"line\": {\"colorbar\": {\"outlinewidth\": 0, \"ticks\": \"\"}}, \"type\": \"parcoords\"}], \"pie\": [{\"automargin\": true, \"type\": \"pie\"}], \"scatter\": [{\"marker\": {\"colorbar\": {\"outlinewidth\": 0, \"ticks\": \"\"}}, \"type\": \"scatter\"}], \"scatter3d\": [{\"line\": {\"colorbar\": {\"outlinewidth\": 0, \"ticks\": \"\"}}, \"marker\": {\"colorbar\": {\"outlinewidth\": 0, \"ticks\": \"\"}}, \"type\": \"scatter3d\"}], \"scattercarpet\": [{\"marker\": {\"colorbar\": {\"outlinewidth\": 0, \"ticks\": \"\"}}, \"type\": \"scattercarpet\"}], \"scattergeo\": [{\"marker\": {\"colorbar\": {\"outlinewidth\": 0, \"ticks\": \"\"}}, \"type\": \"scattergeo\"}], \"scattergl\": [{\"marker\": {\"colorbar\": {\"outlinewidth\": 0, \"ticks\": \"\"}}, \"type\": \"scattergl\"}], \"scattermapbox\": [{\"marker\": {\"colorbar\": {\"outlinewidth\": 0, \"ticks\": \"\"}}, \"type\": \"scattermapbox\"}], \"scatterpolar\": [{\"marker\": {\"colorbar\": {\"outlinewidth\": 0, \"ticks\": \"\"}}, \"type\": \"scatterpolar\"}], \"scatterpolargl\": [{\"marker\": {\"colorbar\": {\"outlinewidth\": 0, \"ticks\": \"\"}}, \"type\": \"scatterpolargl\"}], \"scatterternary\": [{\"marker\": {\"colorbar\": {\"outlinewidth\": 0, \"ticks\": \"\"}}, \"type\": \"scatterternary\"}], \"surface\": [{\"colorbar\": {\"outlinewidth\": 0, \"ticks\": \"\"}, \"colorscale\": [[0.0, \"#0d0887\"], [0.1111111111111111, \"#46039f\"], [0.2222222222222222, \"#7201a8\"], [0.3333333333333333, \"#9c179e\"], [0.4444444444444444, \"#bd3786\"], [0.5555555555555556, \"#d8576b\"], [0.6666666666666666, \"#ed7953\"], [0.7777777777777778, \"#fb9f3a\"], [0.8888888888888888, \"#fdca26\"], [1.0, \"#f0f921\"]], \"type\": \"surface\"}], \"table\": [{\"cells\": {\"fill\": {\"color\": \"#EBF0F8\"}, \"line\": {\"color\": \"white\"}}, \"header\": {\"fill\": {\"color\": \"#C8D4E3\"}, \"line\": {\"color\": \"white\"}}, \"type\": \"table\"}]}, \"layout\": {\"annotationdefaults\": {\"arrowcolor\": \"#2a3f5f\", \"arrowhead\": 0, \"arrowwidth\": 1}, \"coloraxis\": {\"colorbar\": {\"outlinewidth\": 0, \"ticks\": \"\"}}, \"colorscale\": {\"diverging\": [[0, \"#8e0152\"], [0.1, \"#c51b7d\"], [0.2, \"#de77ae\"], [0.3, \"#f1b6da\"], [0.4, \"#fde0ef\"], [0.5, \"#f7f7f7\"], [0.6, \"#e6f5d0\"], [0.7, \"#b8e186\"], [0.8, \"#7fbc41\"], [0.9, \"#4d9221\"], [1, \"#276419\"]], \"sequential\": [[0.0, \"#0d0887\"], [0.1111111111111111, \"#46039f\"], [0.2222222222222222, \"#7201a8\"], [0.3333333333333333, \"#9c179e\"], [0.4444444444444444, \"#bd3786\"], [0.5555555555555556, \"#d8576b\"], [0.6666666666666666, \"#ed7953\"], [0.7777777777777778, \"#fb9f3a\"], [0.8888888888888888, \"#fdca26\"], [1.0, \"#f0f921\"]], \"sequentialminus\": [[0.0, \"#0d0887\"], [0.1111111111111111, \"#46039f\"], [0.2222222222222222, \"#7201a8\"], [0.3333333333333333, \"#9c179e\"], [0.4444444444444444, \"#bd3786\"], [0.5555555555555556, \"#d8576b\"], [0.6666666666666666, \"#ed7953\"], [0.7777777777777778, \"#fb9f3a\"], [0.8888888888888888, \"#fdca26\"], [1.0, \"#f0f921\"]]}, \"colorway\": [\"#636efa\", \"#EF553B\", \"#00cc96\", \"#ab63fa\", \"#FFA15A\", \"#19d3f3\", \"#FF6692\", \"#B6E880\", \"#FF97FF\", \"#FECB52\"], \"font\": {\"color\": \"#2a3f5f\"}, \"geo\": {\"bgcolor\": \"white\", \"lakecolor\": \"white\", \"landcolor\": \"#E5ECF6\", \"showlakes\": true, \"showland\": true, \"subunitcolor\": \"white\"}, \"hoverlabel\": {\"align\": \"left\"}, \"hovermode\": \"closest\", \"mapbox\": {\"style\": \"light\"}, \"paper_bgcolor\": \"white\", \"plot_bgcolor\": \"#E5ECF6\", \"polar\": {\"angularaxis\": {\"gridcolor\": \"white\", \"linecolor\": \"white\", \"ticks\": \"\"}, \"bgcolor\": \"#E5ECF6\", \"radialaxis\": {\"gridcolor\": \"white\", \"linecolor\": \"white\", \"ticks\": \"\"}}, \"scene\": {\"xaxis\": {\"backgroundcolor\": \"#E5ECF6\", \"gridcolor\": \"white\", \"gridwidth\": 2, \"linecolor\": \"white\", \"showbackground\": true, \"ticks\": \"\", \"zerolinecolor\": \"white\"}, \"yaxis\": {\"backgroundcolor\": \"#E5ECF6\", \"gridcolor\": \"white\", \"gridwidth\": 2, \"linecolor\": \"white\", \"showbackground\": true, \"ticks\": \"\", \"zerolinecolor\": \"white\"}, \"zaxis\": {\"backgroundcolor\": \"#E5ECF6\", \"gridcolor\": \"white\", \"gridwidth\": 2, \"linecolor\": \"white\", \"showbackground\": true, \"ticks\": \"\", \"zerolinecolor\": \"white\"}}, \"shapedefaults\": {\"line\": {\"color\": \"#2a3f5f\"}}, \"ternary\": {\"aaxis\": {\"gridcolor\": \"white\", \"linecolor\": \"white\", \"ticks\": \"\"}, \"baxis\": {\"gridcolor\": \"white\", \"linecolor\": \"white\", \"ticks\": \"\"}, \"bgcolor\": \"#E5ECF6\", \"caxis\": {\"gridcolor\": \"white\", \"linecolor\": \"white\", \"ticks\": \"\"}}, \"title\": {\"x\": 0.05}, \"xaxis\": {\"automargin\": true, \"gridcolor\": \"white\", \"linecolor\": \"white\", \"ticks\": \"\", \"title\": {\"standoff\": 15}, \"zerolinecolor\": \"white\", \"zerolinewidth\": 2}, \"yaxis\": {\"automargin\": true, \"gridcolor\": \"white\", \"linecolor\": \"white\", \"ticks\": \"\", \"title\": {\"standoff\": 15}, \"zerolinecolor\": \"white\", \"zerolinewidth\": 2}}}, \"title\": {\"text\": \"Top Ten & Bottom ten spenders\", \"x\": 0.5, \"xanchor\": \"center\", \"y\": 0.9, \"yanchor\": \"top\"}, \"xaxis\": {\"anchor\": \"y\", \"domain\": [0.0, 0.45]}, \"xaxis2\": {\"anchor\": \"y2\", \"domain\": [0.55, 1.0]}, \"yaxis\": {\"anchor\": \"x\", \"domain\": [0.0, 1.0], \"title\": {\"text\": \"Health_exp_pct_GDP_2016 (%)\"}}, \"yaxis2\": {\"anchor\": \"x2\", \"domain\": [0.0, 1.0], \"matches\": \"y\", \"showticklabels\": false}},\n",
              "                        {\"responsive\": true}\n",
              "                    ).then(function(){\n",
              "                            \n",
              "var gd = document.getElementById('6291385d-5089-4cb1-ba9f-d054becfaa48');\n",
              "var x = new MutationObserver(function (mutations, observer) {{\n",
              "        var display = window.getComputedStyle(gd).display;\n",
              "        if (!display || display === 'none') {{\n",
              "            console.log([gd, 'removed!']);\n",
              "            Plotly.purge(gd);\n",
              "            observer.disconnect();\n",
              "        }}\n",
              "}});\n",
              "\n",
              "// Listen for the removal of the full notebook cells\n",
              "var notebookContainer = gd.closest('#notebook-container');\n",
              "if (notebookContainer) {{\n",
              "    x.observe(notebookContainer, {childList: true});\n",
              "}}\n",
              "\n",
              "// Listen for the clearing of the current output cell\n",
              "var outputEl = gd.closest('.output');\n",
              "if (outputEl) {{\n",
              "    x.observe(outputEl, {childList: true});\n",
              "}}\n",
              "\n",
              "                        })\n",
              "                };\n",
              "                \n",
              "            </script>\n",
              "        </div>\n",
              "</body>\n",
              "</html>"
            ]
          },
          "metadata": {
            "tags": []
          }
        }
      ]
    },
    {
      "cell_type": "markdown",
      "metadata": {
        "id": "mkiVl4Nn-yVb",
        "colab_type": "text"
      },
      "source": [
        "# **Observations:**\n",
        "\n",
        "The top 10 spenders are:\n",
        "1.   Marshall Islands\n",
        "2. United States\n",
        "3. Sierra Leone\n",
        "4. Tuvalu\n",
        "5. Micronesia. Fed. Sts\n",
        "6. Switzerland\n",
        "7. Cuba\n",
        "8. Kiribati\n",
        "9. Brazil\n",
        "10. Palau\n",
        "\n",
        "The bottom 10 spenders are:\n",
        "1. Monaco\n",
        "2. Papua New Guinea\n",
        "3. Brunei Darussalam\n",
        "4. Bangladesh\n",
        "5. Lao PDR\n",
        "6. Pakistan\n",
        "7. Angola\n",
        "8. Eritrea\n",
        "9. Gabon\n",
        "10. Indonesia"
      ]
    },
    {
      "cell_type": "markdown",
      "metadata": {
        "id": "1qG06nuu_rJz",
        "colab_type": "text"
      },
      "source": [
        "# **Using KNN to map the spenders**"
      ]
    },
    {
      "cell_type": "markdown",
      "metadata": {
        "id": "XPgqcMAxUSwC",
        "colab_type": "text"
      },
      "source": [
        "**First check the data distribution for the data column we are trying to predict (Health_exp_pct_GDP_2016)**"
      ]
    },
    {
      "cell_type": "code",
      "metadata": {
        "id": "0uzawLlDT7wU",
        "colab_type": "code",
        "colab": {
          "base_uri": "https://localhost:8080/",
          "height": 68
        },
        "outputId": "938ce6c0-f3c8-4c68-c345-6e142cf1938e"
      },
      "source": [
        "print('Mean: ', df['Health_exp_pct_GDP_2016'].mean())\n",
        "print('Median: ', df['Health_exp_pct_GDP_2016'].median())\n",
        "print('Mode: ', df['Health_exp_pct_GDP_2016'].mode()[0])"
      ],
      "execution_count": 138,
      "outputs": [
        {
          "output_type": "stream",
          "text": [
            "Mean:  6.656190476190477\n",
            "Median:  6.2\n",
            "Mode:  6.2\n"
          ],
          "name": "stdout"
        }
      ]
    },
    {
      "cell_type": "markdown",
      "metadata": {
        "id": "tWJPfnTHTjMN",
        "colab_type": "text"
      },
      "source": [
        "The median is smaller than mean and we may use it to categorize by\n",
        "Transforming the column *Health_exp_pct_GDP_2016* to categorical data"
      ]
    },
    {
      "cell_type": "code",
      "metadata": {
        "id": "6IbrhqpISevT",
        "colab_type": "code",
        "colab": {
          "base_uri": "https://localhost:8080/",
          "height": 241
        },
        "outputId": "98f6226e-2925-449b-ce76-a4ffcc0f6b59"
      },
      "source": [
        "def cat_Health_exp_pct_GDP_2016(row):\n",
        "    if row > 6.2:\n",
        "        row = 1\n",
        "    else:\n",
        "        row = 0\n",
        "    return row\n",
        "# create a new column for spending category\n",
        "df['Spending_category'] = df['Health_exp_pct_GDP_2016'].apply(cat_Health_exp_pct_GDP_2016)\n",
        "# We now no longer need the Health_exp_pct_GDP_2016 column\n",
        "df.drop('Health_exp_pct_GDP_2016', axis=1, inplace=True)\n",
        "df.head()"
      ],
      "execution_count": 139,
      "outputs": [
        {
          "output_type": "execute_result",
          "data": {
            "text/html": [
              "<div>\n",
              "<style scoped>\n",
              "    .dataframe tbody tr th:only-of-type {\n",
              "        vertical-align: middle;\n",
              "    }\n",
              "\n",
              "    .dataframe tbody tr th {\n",
              "        vertical-align: top;\n",
              "    }\n",
              "\n",
              "    .dataframe thead th {\n",
              "        text-align: right;\n",
              "    }\n",
              "</style>\n",
              "<table border=\"1\" class=\"dataframe\">\n",
              "  <thead>\n",
              "    <tr style=\"text-align: right;\">\n",
              "      <th></th>\n",
              "      <th>World_Bank_Name</th>\n",
              "      <th>Health_exp_public_pct_2016</th>\n",
              "      <th>Health_exp_out_of_pocket_pct_2016</th>\n",
              "      <th>Health_exp_per_capita_USD_2016</th>\n",
              "      <th>per_capita_exp_PPP_2016</th>\n",
              "      <th>External_health_exp_pct_2016</th>\n",
              "      <th>Physicians_per_1000_2009-18</th>\n",
              "      <th>Nurse_midwife_per_1000_2009-18</th>\n",
              "      <th>Specialist_surgical_per_1000_2008-18</th>\n",
              "      <th>Completeness_of_birth_reg_2009-18</th>\n",
              "      <th>Completeness_of_death_reg_2008-16</th>\n",
              "      <th>Spending_category</th>\n",
              "    </tr>\n",
              "  </thead>\n",
              "  <tbody>\n",
              "    <tr>\n",
              "      <th>0</th>\n",
              "      <td>Afghanistan</td>\n",
              "      <td>5.1</td>\n",
              "      <td>77.4</td>\n",
              "      <td>57.2</td>\n",
              "      <td>162.8</td>\n",
              "      <td>17.5</td>\n",
              "      <td>0.3</td>\n",
              "      <td>0.3</td>\n",
              "      <td>0.0</td>\n",
              "      <td>42.3</td>\n",
              "      <td>99.0</td>\n",
              "      <td>1</td>\n",
              "    </tr>\n",
              "    <tr>\n",
              "      <th>1</th>\n",
              "      <td>Albania</td>\n",
              "      <td>41.4</td>\n",
              "      <td>58.0</td>\n",
              "      <td>271.5</td>\n",
              "      <td>759.7</td>\n",
              "      <td>0.7</td>\n",
              "      <td>1.2</td>\n",
              "      <td>3.6</td>\n",
              "      <td>11.6</td>\n",
              "      <td>98.4</td>\n",
              "      <td>53.0</td>\n",
              "      <td>1</td>\n",
              "    </tr>\n",
              "    <tr>\n",
              "      <th>2</th>\n",
              "      <td>Algeria</td>\n",
              "      <td>67.7</td>\n",
              "      <td>30.9</td>\n",
              "      <td>260.4</td>\n",
              "      <td>998.2</td>\n",
              "      <td>0.0</td>\n",
              "      <td>1.8</td>\n",
              "      <td>2.2</td>\n",
              "      <td>12.1</td>\n",
              "      <td>100.0</td>\n",
              "      <td>99.0</td>\n",
              "      <td>1</td>\n",
              "    </tr>\n",
              "    <tr>\n",
              "      <th>3</th>\n",
              "      <td>Andorra</td>\n",
              "      <td>49.1</td>\n",
              "      <td>41.7</td>\n",
              "      <td>3834.7</td>\n",
              "      <td>4978.7</td>\n",
              "      <td>1.7</td>\n",
              "      <td>3.3</td>\n",
              "      <td>4.0</td>\n",
              "      <td>83.1</td>\n",
              "      <td>100.0</td>\n",
              "      <td>80.0</td>\n",
              "      <td>1</td>\n",
              "    </tr>\n",
              "    <tr>\n",
              "      <th>4</th>\n",
              "      <td>Angola</td>\n",
              "      <td>44.1</td>\n",
              "      <td>35.2</td>\n",
              "      <td>95.2</td>\n",
              "      <td>185.8</td>\n",
              "      <td>3.6</td>\n",
              "      <td>0.2</td>\n",
              "      <td>1.3</td>\n",
              "      <td>23.6</td>\n",
              "      <td>25.0</td>\n",
              "      <td>99.0</td>\n",
              "      <td>0</td>\n",
              "    </tr>\n",
              "  </tbody>\n",
              "</table>\n",
              "</div>"
            ],
            "text/plain": [
              "  World_Bank_Name  ...  Spending_category\n",
              "0     Afghanistan  ...                  1\n",
              "1         Albania  ...                  1\n",
              "2         Algeria  ...                  1\n",
              "3         Andorra  ...                  1\n",
              "4          Angola  ...                  0\n",
              "\n",
              "[5 rows x 12 columns]"
            ]
          },
          "metadata": {
            "tags": []
          },
          "execution_count": 139
        }
      ]
    },
    {
      "cell_type": "code",
      "metadata": {
        "id": "9kvSaOYe-2tx",
        "colab_type": "code",
        "colab": {
          "base_uri": "https://localhost:8080/",
          "height": 241
        },
        "outputId": "123b9f31-8a6d-42e7-f771-3a3781ae0c16"
      },
      "source": [
        "# Also remove the World_Bank_Name column since it's not categorical and may interfere with accuracy\n",
        "df.drop('World_Bank_Name', axis=1, inplace=True)\n",
        "df.head()"
      ],
      "execution_count": 140,
      "outputs": [
        {
          "output_type": "execute_result",
          "data": {
            "text/html": [
              "<div>\n",
              "<style scoped>\n",
              "    .dataframe tbody tr th:only-of-type {\n",
              "        vertical-align: middle;\n",
              "    }\n",
              "\n",
              "    .dataframe tbody tr th {\n",
              "        vertical-align: top;\n",
              "    }\n",
              "\n",
              "    .dataframe thead th {\n",
              "        text-align: right;\n",
              "    }\n",
              "</style>\n",
              "<table border=\"1\" class=\"dataframe\">\n",
              "  <thead>\n",
              "    <tr style=\"text-align: right;\">\n",
              "      <th></th>\n",
              "      <th>Health_exp_public_pct_2016</th>\n",
              "      <th>Health_exp_out_of_pocket_pct_2016</th>\n",
              "      <th>Health_exp_per_capita_USD_2016</th>\n",
              "      <th>per_capita_exp_PPP_2016</th>\n",
              "      <th>External_health_exp_pct_2016</th>\n",
              "      <th>Physicians_per_1000_2009-18</th>\n",
              "      <th>Nurse_midwife_per_1000_2009-18</th>\n",
              "      <th>Specialist_surgical_per_1000_2008-18</th>\n",
              "      <th>Completeness_of_birth_reg_2009-18</th>\n",
              "      <th>Completeness_of_death_reg_2008-16</th>\n",
              "      <th>Spending_category</th>\n",
              "    </tr>\n",
              "  </thead>\n",
              "  <tbody>\n",
              "    <tr>\n",
              "      <th>0</th>\n",
              "      <td>5.1</td>\n",
              "      <td>77.4</td>\n",
              "      <td>57.2</td>\n",
              "      <td>162.8</td>\n",
              "      <td>17.5</td>\n",
              "      <td>0.3</td>\n",
              "      <td>0.3</td>\n",
              "      <td>0.0</td>\n",
              "      <td>42.3</td>\n",
              "      <td>99.0</td>\n",
              "      <td>1</td>\n",
              "    </tr>\n",
              "    <tr>\n",
              "      <th>1</th>\n",
              "      <td>41.4</td>\n",
              "      <td>58.0</td>\n",
              "      <td>271.5</td>\n",
              "      <td>759.7</td>\n",
              "      <td>0.7</td>\n",
              "      <td>1.2</td>\n",
              "      <td>3.6</td>\n",
              "      <td>11.6</td>\n",
              "      <td>98.4</td>\n",
              "      <td>53.0</td>\n",
              "      <td>1</td>\n",
              "    </tr>\n",
              "    <tr>\n",
              "      <th>2</th>\n",
              "      <td>67.7</td>\n",
              "      <td>30.9</td>\n",
              "      <td>260.4</td>\n",
              "      <td>998.2</td>\n",
              "      <td>0.0</td>\n",
              "      <td>1.8</td>\n",
              "      <td>2.2</td>\n",
              "      <td>12.1</td>\n",
              "      <td>100.0</td>\n",
              "      <td>99.0</td>\n",
              "      <td>1</td>\n",
              "    </tr>\n",
              "    <tr>\n",
              "      <th>3</th>\n",
              "      <td>49.1</td>\n",
              "      <td>41.7</td>\n",
              "      <td>3834.7</td>\n",
              "      <td>4978.7</td>\n",
              "      <td>1.7</td>\n",
              "      <td>3.3</td>\n",
              "      <td>4.0</td>\n",
              "      <td>83.1</td>\n",
              "      <td>100.0</td>\n",
              "      <td>80.0</td>\n",
              "      <td>1</td>\n",
              "    </tr>\n",
              "    <tr>\n",
              "      <th>4</th>\n",
              "      <td>44.1</td>\n",
              "      <td>35.2</td>\n",
              "      <td>95.2</td>\n",
              "      <td>185.8</td>\n",
              "      <td>3.6</td>\n",
              "      <td>0.2</td>\n",
              "      <td>1.3</td>\n",
              "      <td>23.6</td>\n",
              "      <td>25.0</td>\n",
              "      <td>99.0</td>\n",
              "      <td>0</td>\n",
              "    </tr>\n",
              "  </tbody>\n",
              "</table>\n",
              "</div>"
            ],
            "text/plain": [
              "   Health_exp_public_pct_2016  ...  Spending_category\n",
              "0                         5.1  ...                  1\n",
              "1                        41.4  ...                  1\n",
              "2                        67.7  ...                  1\n",
              "3                        49.1  ...                  1\n",
              "4                        44.1  ...                  0\n",
              "\n",
              "[5 rows x 11 columns]"
            ]
          },
          "metadata": {
            "tags": []
          },
          "execution_count": 140
        }
      ]
    },
    {
      "cell_type": "code",
      "metadata": {
        "id": "49-d_dROS1aX",
        "colab_type": "code",
        "colab": {
          "base_uri": "https://localhost:8080/",
          "height": 343
        },
        "outputId": "98b67adc-7dcd-406d-97fc-df55b32fc1b9"
      },
      "source": [
        "# Get dependent and independent variables which will be used in the training and testing of our model\n",
        "y = df['Spending_category']\n",
        "print(y[:5])\n",
        "X = df.drop('Spending_category', axis=1)\n",
        "X.head()"
      ],
      "execution_count": 141,
      "outputs": [
        {
          "output_type": "stream",
          "text": [
            "0    1\n",
            "1    1\n",
            "2    1\n",
            "3    1\n",
            "4    0\n",
            "Name: Spending_category, dtype: int64\n"
          ],
          "name": "stdout"
        },
        {
          "output_type": "execute_result",
          "data": {
            "text/html": [
              "<div>\n",
              "<style scoped>\n",
              "    .dataframe tbody tr th:only-of-type {\n",
              "        vertical-align: middle;\n",
              "    }\n",
              "\n",
              "    .dataframe tbody tr th {\n",
              "        vertical-align: top;\n",
              "    }\n",
              "\n",
              "    .dataframe thead th {\n",
              "        text-align: right;\n",
              "    }\n",
              "</style>\n",
              "<table border=\"1\" class=\"dataframe\">\n",
              "  <thead>\n",
              "    <tr style=\"text-align: right;\">\n",
              "      <th></th>\n",
              "      <th>Health_exp_public_pct_2016</th>\n",
              "      <th>Health_exp_out_of_pocket_pct_2016</th>\n",
              "      <th>Health_exp_per_capita_USD_2016</th>\n",
              "      <th>per_capita_exp_PPP_2016</th>\n",
              "      <th>External_health_exp_pct_2016</th>\n",
              "      <th>Physicians_per_1000_2009-18</th>\n",
              "      <th>Nurse_midwife_per_1000_2009-18</th>\n",
              "      <th>Specialist_surgical_per_1000_2008-18</th>\n",
              "      <th>Completeness_of_birth_reg_2009-18</th>\n",
              "      <th>Completeness_of_death_reg_2008-16</th>\n",
              "    </tr>\n",
              "  </thead>\n",
              "  <tbody>\n",
              "    <tr>\n",
              "      <th>0</th>\n",
              "      <td>5.1</td>\n",
              "      <td>77.4</td>\n",
              "      <td>57.2</td>\n",
              "      <td>162.8</td>\n",
              "      <td>17.5</td>\n",
              "      <td>0.3</td>\n",
              "      <td>0.3</td>\n",
              "      <td>0.0</td>\n",
              "      <td>42.3</td>\n",
              "      <td>99.0</td>\n",
              "    </tr>\n",
              "    <tr>\n",
              "      <th>1</th>\n",
              "      <td>41.4</td>\n",
              "      <td>58.0</td>\n",
              "      <td>271.5</td>\n",
              "      <td>759.7</td>\n",
              "      <td>0.7</td>\n",
              "      <td>1.2</td>\n",
              "      <td>3.6</td>\n",
              "      <td>11.6</td>\n",
              "      <td>98.4</td>\n",
              "      <td>53.0</td>\n",
              "    </tr>\n",
              "    <tr>\n",
              "      <th>2</th>\n",
              "      <td>67.7</td>\n",
              "      <td>30.9</td>\n",
              "      <td>260.4</td>\n",
              "      <td>998.2</td>\n",
              "      <td>0.0</td>\n",
              "      <td>1.8</td>\n",
              "      <td>2.2</td>\n",
              "      <td>12.1</td>\n",
              "      <td>100.0</td>\n",
              "      <td>99.0</td>\n",
              "    </tr>\n",
              "    <tr>\n",
              "      <th>3</th>\n",
              "      <td>49.1</td>\n",
              "      <td>41.7</td>\n",
              "      <td>3834.7</td>\n",
              "      <td>4978.7</td>\n",
              "      <td>1.7</td>\n",
              "      <td>3.3</td>\n",
              "      <td>4.0</td>\n",
              "      <td>83.1</td>\n",
              "      <td>100.0</td>\n",
              "      <td>80.0</td>\n",
              "    </tr>\n",
              "    <tr>\n",
              "      <th>4</th>\n",
              "      <td>44.1</td>\n",
              "      <td>35.2</td>\n",
              "      <td>95.2</td>\n",
              "      <td>185.8</td>\n",
              "      <td>3.6</td>\n",
              "      <td>0.2</td>\n",
              "      <td>1.3</td>\n",
              "      <td>23.6</td>\n",
              "      <td>25.0</td>\n",
              "      <td>99.0</td>\n",
              "    </tr>\n",
              "  </tbody>\n",
              "</table>\n",
              "</div>"
            ],
            "text/plain": [
              "   Health_exp_public_pct_2016  ...  Completeness_of_death_reg_2008-16\n",
              "0                         5.1  ...                               99.0\n",
              "1                        41.4  ...                               53.0\n",
              "2                        67.7  ...                               99.0\n",
              "3                        49.1  ...                               80.0\n",
              "4                        44.1  ...                               99.0\n",
              "\n",
              "[5 rows x 10 columns]"
            ]
          },
          "metadata": {
            "tags": []
          },
          "execution_count": 141
        }
      ]
    },
    {
      "cell_type": "markdown",
      "metadata": {
        "id": "13EWyL9aFzSf",
        "colab_type": "text"
      },
      "source": [
        "**Spliting dataset into training set and test set**"
      ]
    },
    {
      "cell_type": "code",
      "metadata": {
        "id": "TwF-mjiTFvVw",
        "colab_type": "code",
        "colab": {}
      },
      "source": [
        "X_train, X_test, y_train, y_test = train_test_split(X, y, test_size = 0.2, random_state = 99)"
      ],
      "execution_count": 142,
      "outputs": []
    },
    {
      "cell_type": "code",
      "metadata": {
        "id": "9lmrFOsMNkzx",
        "colab_type": "code",
        "colab": {}
      },
      "source": [
        "# from sklearn import preprocessing\n",
        "# from sklearn import utils\n",
        "\n",
        "# lab_enc = preprocessing.LabelEncoder()\n",
        "# encoded = lab_enc.fit_transform(y_train)"
      ],
      "execution_count": 143,
      "outputs": []
    },
    {
      "cell_type": "markdown",
      "metadata": {
        "id": "ntsxNgQRGdNr",
        "colab_type": "text"
      },
      "source": [
        "**# Fitting clasifier to the Training set**"
      ]
    },
    {
      "cell_type": "code",
      "metadata": {
        "id": "5fI9jkgjRWSa",
        "colab_type": "code",
        "colab": {}
      },
      "source": [
        "from sklearn.preprocessing import PowerTransformer\n",
        "\n",
        "pow_trans = PowerTransformer() # Used in data normalization during preprocessing\n",
        "\n",
        "pow_trans.fit(X_train)# Fit the X_training data to PowerTransformer\n",
        "\n",
        "X_train_normalized = pow_trans.transform(X_train)\n",
        "X_test_normalized = pow_trans.transform(X_test)\n",
        "\n",
        "# This is now our final normalized data\n",
        "X_train_normalized = pd.DataFrame(X_train_normalized, columns=X_train.columns, index=X_train.index)\n",
        "X_test_normalized = pd.DataFrame(X_test_normalized, columns=X_test.columns, index=X_test.index)"
      ],
      "execution_count": 147,
      "outputs": []
    },
    {
      "cell_type": "code",
      "metadata": {
        "id": "sS5ulNDGTFlr",
        "colab_type": "code",
        "colab": {}
      },
      "source": [
        ""
      ],
      "execution_count": 144,
      "outputs": []
    },
    {
      "cell_type": "markdown",
      "metadata": {
        "id": "x_b6x0GCYDjM",
        "colab_type": "text"
      },
      "source": [
        "**We need to evaluate our model's predictions using a confusion matrix since it gives a clear insight of the performance.**"
      ]
    },
    {
      "cell_type": "code",
      "metadata": {
        "id": "gGXqm-FYGRhq",
        "colab_type": "code",
        "colab": {
          "base_uri": "https://localhost:8080/",
          "height": 221
        },
        "outputId": "ff9f9b08-9722-4933-8e5d-8d96bb78749b"
      },
      "source": [
        "# from sklearn.neighbors import KNeighborsClassifier\n",
        "from sklearn.metrics import confusion_matrix, accuracy_score, classification_report\n",
        "# from sklearn.model_selection import cross_val_score\n",
        "\n",
        "# Instantiate learning model (k = 3)\n",
        "classifier = KNeighborsClassifier(n_neighbors=3)\n",
        "\n",
        "# Fitting the model\n",
        "classifier.fit(X_train, y_train)\n",
        "\n",
        "# # Predicting the Test set results\n",
        "y_pred = classifier.predict(X_test)\n",
        "\n",
        "# The confusion matrix:\n",
        "print(confusion_matrix(y_test, y_pred))\n",
        "\n",
        "# The classification report...\n",
        "print('\\n', classification_report(y_test, y_pred))"
      ],
      "execution_count": 148,
      "outputs": [
        {
          "output_type": "stream",
          "text": [
            "[[19  7]\n",
            " [ 8  8]]\n",
            "\n",
            "               precision    recall  f1-score   support\n",
            "\n",
            "           0       0.70      0.73      0.72        26\n",
            "           1       0.53      0.50      0.52        16\n",
            "\n",
            "    accuracy                           0.64        42\n",
            "   macro avg       0.62      0.62      0.62        42\n",
            "weighted avg       0.64      0.64      0.64        42\n",
            "\n"
          ],
          "name": "stdout"
        }
      ]
    },
    {
      "cell_type": "markdown",
      "metadata": {
        "id": "bTnqgDnoYI0-",
        "colab_type": "text"
      },
      "source": [
        " **And now to judge the performance of our model....**"
      ]
    },
    {
      "cell_type": "code",
      "metadata": {
        "id": "1BG2UlivPrCa",
        "colab_type": "code",
        "colab": {
          "base_uri": "https://localhost:8080/",
          "height": 34
        },
        "outputId": "bd3a62ac-4699-4996-fc1a-08f01f65103a"
      },
      "source": [
        "accuracy = accuracy_score(y_test, y_pred)*100\n",
        "print('Accuracy of our model is ' + str(round(accuracy, 2)) + ' %.')"
      ],
      "execution_count": 149,
      "outputs": [
        {
          "output_type": "stream",
          "text": [
            "Accuracy of our model is 64.29 %.\n"
          ],
          "name": "stdout"
        }
      ]
    },
    {
      "cell_type": "markdown",
      "metadata": {
        "id": "rKFyTXZUYYL0",
        "colab_type": "text"
      },
      "source": [
        "# **Using cross-validation for parameter tuning:**"
      ]
    },
    {
      "cell_type": "markdown",
      "metadata": {
        "id": "NLam1V6SYtVK",
        "colab_type": "text"
      },
      "source": [
        "**The model did not perform so well, so we need a better value of k (number of neighbours)**"
      ]
    },
    {
      "cell_type": "code",
      "metadata": {
        "id": "yrOCldQ3YaTv",
        "colab_type": "code",
        "colab": {}
      },
      "source": [
        "# creating list of K for KNN\n",
        "k_list = list(range(1,50,2))\n",
        "\n",
        "# creating list of cv scores\n",
        "cv_scores = []\n",
        "\n",
        "# perform 10-fold cross validation\n",
        "for k in k_list:\n",
        "    knn = KNeighborsClassifier(n_neighbors=k)\n",
        "    scores = cross_val_score(knn, X_train, y_train, cv=10, scoring='accuracy')\n",
        "    cv_scores.append(scores.mean())"
      ],
      "execution_count": 150,
      "outputs": []
    },
    {
      "cell_type": "code",
      "metadata": {
        "id": "FXFlbo3KYrNO",
        "colab_type": "code",
        "colab": {
          "base_uri": "https://localhost:8080/",
          "height": 651
        },
        "outputId": "a6437249-3bfb-4060-9bb3-3b6075808774"
      },
      "source": [
        "# changing to misclassification error\n",
        "MSE = [1 - x for x in cv_scores]\n",
        "\n",
        "plt.figure()\n",
        "plt.figure(figsize=(15,10))\n",
        "plt.title('The optimal number of neighbors', fontsize=20, fontweight='bold')\n",
        "plt.xlabel('Number of Neighbors K', fontsize=15)\n",
        "plt.ylabel('Misclassification Error', fontsize=15)\n",
        "sns.set_style(\"whitegrid\")\n",
        "plt.plot(k_list, MSE)\n",
        "\n",
        "plt.show()"
      ],
      "execution_count": 151,
      "outputs": [
        {
          "output_type": "display_data",
          "data": {
            "text/plain": [
              "<Figure size 432x288 with 0 Axes>"
            ]
          },
          "metadata": {
            "tags": []
          }
        },
        {
          "output_type": "display_data",
          "data": {
            "image/png": "[encoded data removed]",
            "text/plain": [
              "<Figure size 1080x720 with 1 Axes>"
            ]
          },
          "metadata": {
            "tags": [],
            "needs_background": "light"
          }
        }
      ]
    },
    {
      "cell_type": "code",
      "metadata": {
        "id": "2rtD5LBLZCIw",
        "colab_type": "code",
        "colab": {
          "base_uri": "https://localhost:8080/",
          "height": 34
        },
        "outputId": "9813a236-8d9c-44b5-a0de-fc46ca9f82fa"
      },
      "source": [
        "# finding best k\n",
        "best_k = k_list[MSE.index(min(MSE))]\n",
        "print(\"The optimal number of neighbors is %d.\" % best_k)"
      ],
      "execution_count": 152,
      "outputs": [
        {
          "output_type": "stream",
          "text": [
            "The optimal number of neighbors is 21.\n"
          ],
          "name": "stdout"
        }
      ]
    },
    {
      "cell_type": "markdown",
      "metadata": {
        "id": "NCB6LcIEZLgd",
        "colab_type": "text"
      },
      "source": [
        "**Now we train again our model using a k value of 21**"
      ]
    },
    {
      "cell_type": "code",
      "metadata": {
        "id": "7INz0uctZION",
        "colab_type": "code",
        "colab": {
          "base_uri": "https://localhost:8080/",
          "height": 221
        },
        "outputId": "e87b69e8-9f0d-41d5-cc7c-0017544dbbe0"
      },
      "source": [
        "# Instantiate learning model (k = 21)\n",
        "classifier = KNeighborsClassifier(n_neighbors=21)\n",
        "\n",
        "# Fitting the model\n",
        "classifier.fit(X_train, y_train)\n",
        "\n",
        "# # Predicting the Test set results\n",
        "y_pred = classifier.predict(X_test)\n",
        "\n",
        "# The confusion matrix:\n",
        "print(confusion_matrix(y_test, y_pred))\n",
        "\n",
        "# The classification report...\n",
        "print('\\n', classification_report(y_test, y_pred))"
      ],
      "execution_count": 153,
      "outputs": [
        {
          "output_type": "stream",
          "text": [
            "[[23  3]\n",
            " [10  6]]\n",
            "\n",
            "               precision    recall  f1-score   support\n",
            "\n",
            "           0       0.70      0.88      0.78        26\n",
            "           1       0.67      0.38      0.48        16\n",
            "\n",
            "    accuracy                           0.69        42\n",
            "   macro avg       0.68      0.63      0.63        42\n",
            "weighted avg       0.69      0.69      0.67        42\n",
            "\n"
          ],
          "name": "stdout"
        }
      ]
    },
    {
      "cell_type": "code",
      "metadata": {
        "id": "wo-CDcOYZosY",
        "colab_type": "code",
        "colab": {
          "base_uri": "https://localhost:8080/",
          "height": 34
        },
        "outputId": "04c96829-fffe-472a-87c9-8534f0abadb6"
      },
      "source": [
        "accuracy = accuracy_score(y_test, y_pred)*100\n",
        "print('Accuracy of our model is ' + str(round(accuracy, 2)) + ' %.')"
      ],
      "execution_count": 154,
      "outputs": [
        {
          "output_type": "stream",
          "text": [
            "Accuracy of our model is 69.05 %.\n"
          ],
          "name": "stdout"
        }
      ]
    },
    {
      "cell_type": "markdown",
      "metadata": {
        "id": "IQDjgiTSZ9H6",
        "colab_type": "text"
      },
      "source": [
        "**The model accuracy has greatly improved with more neighbours**\n",
        "<br>\n",
        "**Our precision and recall values are 70% and 88% respectively, which means the model performed fairly well in the prediction of the countries with high and low spending**"
      ]
    },
    {
      "cell_type": "code",
      "metadata": {
        "id": "24C10LzbZp5l",
        "colab_type": "code",
        "colab": {}
      },
      "source": [
        ""
      ],
      "execution_count": null,
      "outputs": []
    }
  ]
}